{
 "cells": [
  {
   "cell_type": "markdown",
   "metadata": {},
   "source": [
    "### Sean $C_1$ una circunferencia con centro $O$, $P$ un punto sobre ella y $\\ell$ la recta tangente a $C_1$ en $P$. Considera un punto $Q$ sobre $\\ell$, distinto de $P$, y sea $C_2$ la circunferencia que pasa por $O$, $P$ y $Q$. El segmento $OQ$ insersecta a $C_1$ en $S$ y la recta $PS$ intersecta a $C_2$ en un punto $R$ distinto $P$. Si $r_1$ y $r_2$ son las longitudes de los radios de $C_1$ y $C_2$, respectivamente, muestra que:\n",
    "\n",
    "### <center>$\\frac{PS}{SR} = \\frac{r_1}{r_2}$</center>\n",
    "\n",
    "## Figura\n",
    "<center><img src=\"../imagenes/2012_P1_img1.png\"></center>\n",
    "\n",
    "### NOTAS: De entrada el problema puede antojarse para resolverlo con *potencia de un punto*. Sin embargo debes darte cuenta en poco tiempo que introducir a $r_2$ en la ecuación es complicado.  Una siguiente opción dado que el problema se trata de una igualdad entre razones es buscar triángulos semejantes.\n",
    "\n",
    "#### OBSERVACIONES IMPORTANTES:\n",
    "\n",
    "+ Un triángulo con un vértice en el centro de una circunferencia y los otros dos vértices en la circunferencia siempre es isóceles por los radios y los ángulos de su base siempre serán iguales.\n",
    "+ Cuando busques semejanzas entre triángulos que tienen puntos en una circunferencia, siempre revisa todos los ángulos que abren el mismo arco para ver todos los ángulos que son iguales. Incluso si las líneas originalmente no pertenecen a la construcción del problema, trázalas y observa si surge alguna información útil de ahí.\n",
    "\n",
    "#### SOLUCIÓN\n",
    "\n",
    "**Los triángulos $\\triangle PSO$, $\\triangle SQR$ y $\\triangle QRO_2$ son semejantes.**\n",
    "\n",
    "**Demostración:**\n",
    "\n",
    "+ Los ángulos *azules* $\\angle OPR$ y $\\angle OQR$ son iguales porque ambos abren el arco $OR$.\n",
    "+ Los ángulos *rojos* $\\angle PSO$ y $\\angle QRO_2$ son iguales a $\\angle OPR$ y $\\angle OQR$, respectivamente, porque pertenecen a triángulos isóceles formados por los radios.\n",
    "+ $\\angle QSR = \\angle PSO$ por ser opuestos por un vértice.\n",
    "\n",
    "Por lo tanto los tres triángulos son semejantes por el criterio $AA$ y al dos de ellos estar formados por radios de una circunferencia son isóceles.\n",
    "\n",
    "**Del punto anterior y del hecho de que $\\triangle PSO$ y $\\triangle QRO_2$ son isóceles tenemos que:**\n",
    "\n",
    "### <center>$\\frac{PS}{r_1} = \\frac{PS}{OS} = \\frac{QR}{RO_2} = \\frac{SR}{r_2} \\implies \\frac{PS}{SR} = \\frac{r_1}{r_2}$</center>\n",
    "\n",
    "\n"
   ]
  }
 ],
 "metadata": {
  "kernelspec": {
   "display_name": "Python 3",
   "language": "python",
   "name": "python3"
  },
  "language_info": {
   "codemirror_mode": {
    "name": "ipython",
    "version": 3
   },
   "file_extension": ".py",
   "mimetype": "text/x-python",
   "name": "python",
   "nbconvert_exporter": "python",
   "pygments_lexer": "ipython3",
   "version": "3.6.4"
  }
 },
 "nbformat": 4,
 "nbformat_minor": 2
}
